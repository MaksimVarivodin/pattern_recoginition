{
 "cells": [
  {
   "cell_type": "code",
   "execution_count": 19,
   "id": "initial_id",
   "metadata": {
    "collapsed": true,
    "ExecuteTime": {
     "end_time": "2024-04-09T14:29:30.789380Z",
     "start_time": "2024-04-09T14:29:30.714334Z"
    }
   },
   "outputs": [
    {
     "name": "stdout",
     "output_type": "stream",
     "text": [
      "recognition correctness =  1.0 % ( 30 / 30 )\n"
     ]
    }
   ],
   "source": [
    "from sklearn.decomposition import PCA\n",
    "from sklearn.linear_model import LogisticRegression\n",
    "from scipy.fftpack import dct\n",
    "import cv2\n",
    "import numpy as np\n",
    "\n",
    "def create_correct_result(a, b=0):\n",
    "    if b != 0:\n",
    "        return np.concatenate((np.ones(a), np.zeros(b)))\n",
    "    else:\n",
    "        half_size = int(a / 2)\n",
    "        ones = np.ones(half_size)\n",
    "        zeros = np.zeros(half_size)\n",
    "        return np.concatenate((ones, zeros))\n",
    "    \n",
    "    \n",
    "def check_recognition_correctness(predicted, correct_prediction):\n",
    "    if predicted.shape[0] != correct_prediction.shape[0]:\n",
    "        return\n",
    "    correct_counter = 0\n",
    "    for iterator in range(predicted.shape[0]):\n",
    "        if predicted[iterator] == correct_prediction[iterator]:\n",
    "            correct_counter += 1\n",
    "    correct_percent = correct_counter / predicted.shape[0]\n",
    "    print(\"recognition correctness = \", correct_percent, \"% (\" , correct_counter , \"/\", predicted.shape[0], \")\")\n",
    "    \n",
    "# Завантаження зображень\n",
    "images = [cv2.imread(f'./dataset/temp{i}.jpg', cv2.IMREAD_GRAYSCALE) for i in range(10, 25)]\n",
    "images.extend([cv2.imread(f'./dataset/temp{i}.jpg', cv2.IMREAD_GRAYSCALE) for i in range(36, 51)])\n",
    "\n",
    "# Изменение размера изображений до фиксированного размера\n",
    "fixed_size = (100, 100)  # Выберите подходящий размер\n",
    "resized_images = [cv2.resize(img, fixed_size).flatten() for img in images]\n",
    "\n",
    "# Використання DCT\n",
    "dct_images = [dct(img, norm='ortho') for img in resized_images]\n",
    "\n",
    "# Зменшення розмірності за допомогою PCA\n",
    "pca = PCA(n_components=20)  # Ви можете змінити кількість компонентів\n",
    "pca_result = pca.fit_transform(dct_images)\n",
    "\n",
    "labels = create_correct_result(len(pca_result))\n",
    "\n",
    "# Створення класифікатора на основі логістичної регресії\n",
    "clf_model = LogisticRegression(solver='liblinear', random_state=0).fit(pca_result, labels)  # labels - це мітки класів для ваших зображень\n",
    "\n",
    "on_created_prediction = clf_model.predict(pca_result)\n",
    "check_recognition_correctness(on_created_prediction, labels)\n"
   ]
  },
  {
   "cell_type": "markdown",
   "source": [
    "Тестування на тестовому датасеті."
   ],
   "metadata": {
    "collapsed": false
   },
   "id": "be8ed5494cd59a22"
  },
  {
   "cell_type": "code",
   "outputs": [
    {
     "name": "stdout",
     "output_type": "stream",
     "text": [
      "recognition correctness =  0.55 % ( 11 / 20 )\n"
     ]
    }
   ],
   "source": [
    "# Завантаження зображень\n",
    "images = [cv2.imread(f'./dataset/temp{i}.jpg', cv2.IMREAD_GRAYSCALE) for i in range(25, 35)]\n",
    "images.extend([cv2.imread(f'./dataset/temp{i}.jpg', cv2.IMREAD_GRAYSCALE) for i in range(51, 61)])\n",
    "\n",
    "# Изменение размера изображений до фиксированного размера\n",
    "fixed_size = (100, 100)  # Выберите подходящий размер\n",
    "resized_images = [cv2.resize(img, fixed_size).flatten() for img in images]\n",
    "\n",
    "# Використання DCT\n",
    "dct_images = [dct(img, norm='ortho') for img in resized_images]\n",
    "\n",
    "# Зменшення розмірності за допомогою PCA\n",
    "pca = PCA(n_components=20)  # Ви можете змінити кількість компонентів\n",
    "pca_result = pca.fit_transform(dct_images)\n",
    "labels = create_correct_result(len(pca_result))\n",
    "\n",
    "on_created_prediction = clf_model.predict(pca_result)\n",
    "check_recognition_correctness(on_created_prediction, labels)"
   ],
   "metadata": {
    "collapsed": false,
    "ExecuteTime": {
     "end_time": "2024-04-09T14:29:30.820900Z",
     "start_time": "2024-04-09T14:29:30.791360Z"
    }
   },
   "id": "bc35f7cb554e2b02",
   "execution_count": 20
  }
 ],
 "metadata": {
  "kernelspec": {
   "display_name": "Python 3",
   "language": "python",
   "name": "python3"
  },
  "language_info": {
   "codemirror_mode": {
    "name": "ipython",
    "version": 2
   },
   "file_extension": ".py",
   "mimetype": "text/x-python",
   "name": "python",
   "nbconvert_exporter": "python",
   "pygments_lexer": "ipython2",
   "version": "2.7.6"
  }
 },
 "nbformat": 4,
 "nbformat_minor": 5
}
