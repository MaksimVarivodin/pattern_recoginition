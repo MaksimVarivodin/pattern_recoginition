{
 "cells": [
  {
   "cell_type": "markdown",
   "source": [
    "Імпорт необхідних бібліотек та уведення функцій які використовувалися у минулих лабах."
   ],
   "metadata": {
    "collapsed": false
   },
   "id": "e60b38951725a851"
  },
  {
   "cell_type": "code",
   "outputs": [],
   "source": [
    "import skimage\n",
    "from skimage import data\n",
    "import os\n",
    "from skimage import io\n",
    "import matplotlib.pyplot as plt\n",
    "import numpy as np\n",
    "from sklearn.linear_model import LogisticRegression\n",
    "from sklearn.metrics import classification_report, confusion_matrix\n",
    "import cv2\n",
    "from sklearn.linear_model import LogisticRegression\n",
    "import math\n",
    "\n",
    "\n",
    "# loading and preprocessing image\n",
    "def preprocess_image(image_path):\n",
    "    image = io.imread(image_path)\n",
    "    if image.shape[2] > 3:\n",
    "        pic = np.delete(image, 3, 2)\n",
    "    return image\n",
    "\n",
    "\n",
    "# preprocessing list of image-paths\n",
    "def preprocess_image_list(images):\n",
    "    result_image_list = []\n",
    "    for image_path in images:\n",
    "        image = preprocess_image(image_path)\n",
    "        result_image_list.append(io.imread(image_path))\n",
    "    return result_image_list\n",
    "\n",
    "\n",
    "# processing image\n",
    "def process_image(pic, x_axis_size, y_axis_size):\n",
    "    gray = cv2.cvtColor(pic, cv2.COLOR_BGR2GRAY)\n",
    "    gray = np.float32(gray)\n",
    "    dst = cv2.cornerHarris(gray,2,3,0.04)\n",
    "    threshold = 0.001 * dst.max()  \n",
    "    return pic, np.sum(dst > threshold)\n",
    "\n",
    "\n",
    "#processing list of paths\n",
    "def process_image_list(images):\n",
    "    preprocessed = preprocess_image_list(images)\n",
    "    canny_images = []\n",
    "    calculations = []\n",
    "    for image in preprocessed:\n",
    "        temp_canny, temp_calc = process_image(image, image.shape[0], image.shape[1])\n",
    "        canny_images.append(temp_canny)\n",
    "        calculations.append(temp_calc)\n",
    "    return canny_images, calculations\n",
    "\n",
    "# prints image info\n",
    "def print_image_info(image_paths, images):\n",
    "    if len(image_paths) != len(images):\n",
    "        return\n",
    "    for i in range(0, len(image_paths)):\n",
    "        print(image_paths[i], end=' ')\n",
    "        plt.figure()\n",
    "        plt.imshow(images[i])\n",
    "    \n",
    "    if i % 3 == 0:\n",
    "        print('', end='\\n')\n",
    "        \n",
    "# creates array of correct answers for image recognition     \n",
    "def create_correct_result(a, b=0):\n",
    "    if b != 0:\n",
    "        return np.concatenate((np.ones(a), np.zeros(b)))\n",
    "    else:\n",
    "        half_size = int(a / 2)\n",
    "        ones = np.ones(half_size)\n",
    "        zeros = np.zeros(half_size)\n",
    "        return np.concatenate((ones, zeros))\n",
    "# checks how accurate is prediction model \n",
    "def check_recognition_correctness(predicted, correct_prediction):\n",
    "    if predicted.shape[0] != correct_prediction.shape[0]:\n",
    "        return\n",
    "    correct_counter = 0\n",
    "    for iterator in range(predicted.shape[0]):\n",
    "        if predicted[iterator] == correct_prediction[iterator]:\n",
    "            correct_counter += 1\n",
    "    correct_percent = correct_counter / predicted.shape[0]\n",
    "    print(\"recognition correctness = \", correct_percent, \"% (\" , correct_counter , \"/\", predicted.shape[0], \")\")"
   ],
   "metadata": {
    "collapsed": false,
    "ExecuteTime": {
     "end_time": "2024-04-15T18:33:14.922896Z",
     "start_time": "2024-04-15T18:33:14.898897Z"
    }
   },
   "id": "d7abd3f6723428a1",
   "execution_count": 23
  },
  {
   "cell_type": "code",
   "outputs": [
    {
     "name": "stdout",
     "output_type": "stream",
     "text": [
      "recognition correctness =  0.8333333333333334 % ( 25 / 30 )\n"
     ]
    }
   ],
   "source": [
    "images = [\"./dataset/temp10.jpg\", \"./dataset/temp11.jpg\", \"./dataset/temp12.jpg\",\n",
    "          \"./dataset/temp13.jpg\", \"./dataset/temp14.jpg\", \"./dataset/temp15.jpg\",\n",
    "          \"./dataset/temp16.jpg\", \"./dataset/temp17.jpg\", \"./dataset/temp18.jpg\",\n",
    "          \"./dataset/temp19.jpg\", \"./dataset/temp20.jpg\", \"./dataset/temp21.jpg\",\n",
    "          \"./dataset/temp22.jpg\", \"./dataset/temp23.jpg\", \"./dataset/temp24.jpg\",\n",
    "          \"./dataset/temp36.jpg\", \"./dataset/temp37.jpg\", \"./dataset/temp38.jpg\",\n",
    "          \"./dataset/temp39.jpg\", \"./dataset/temp40.jpg\", \"./dataset/temp41.jpg\",\n",
    "          \"./dataset/temp42.jpg\", \"./dataset/temp43.jpg\", \"./dataset/temp44.jpg\",\n",
    "          \"./dataset/temp45.jpg\", \"./dataset/temp46.jpg\", \"./dataset/temp47.jpg\",\n",
    "          \"./dataset/temp48.jpg\", \"./dataset/temp49.jpg\", \"./dataset/temp50.jpg\", ]\n",
    "_, calculations = process_image_list(images)\n",
    "x = np.array(calculations).reshape(-1, 1)\n",
    "labels = create_correct_result(len(calculations))\n",
    "\n",
    "model = LogisticRegression(solver='liblinear', random_state=0).fit(x, labels)\n",
    "\n",
    "on_created_prediction = model.predict(x)\n",
    "check_recognition_correctness(on_created_prediction, labels)\n",
    "    "
   ],
   "metadata": {
    "collapsed": false,
    "ExecuteTime": {
     "end_time": "2024-04-15T18:33:15.817568Z",
     "start_time": "2024-04-15T18:33:15.756016Z"
    }
   },
   "id": "25941cb1c0e28281",
   "execution_count": 24
  },
  {
   "cell_type": "markdown",
   "source": [
    "Тестова вибірка:"
   ],
   "metadata": {
    "collapsed": false
   },
   "id": "b77f268efe75162a"
  },
  {
   "cell_type": "code",
   "outputs": [
    {
     "name": "stdout",
     "output_type": "stream",
     "text": [
      "recognition correctness =  0.9 % ( 18 / 20 )\n"
     ]
    }
   ],
   "source": [
    "images = [\"./dataset/temp25.jpg\", \"./dataset/temp26.jpg\", \"./dataset/temp27.jpg\",\n",
    "          \"./dataset/temp28.jpg\", \"./dataset/temp29.jpg\", \"./dataset/temp30.jpg\",\n",
    "          \"./dataset/temp31.jpg\", \"./dataset/temp32.jpg\", \"./dataset/temp33.jpg\",\n",
    "          \"./dataset/temp34.jpg\", \"./dataset/temp51.jpg\", \"./dataset/temp52.jpg\",\n",
    "          \"./dataset/temp53.jpg\", \"./dataset/temp54.jpg\", \"./dataset/temp55.jpg\",\n",
    "          \"./dataset/temp56.jpg\", \"./dataset/temp57.jpg\", \"./dataset/temp58.jpg\",\n",
    "          \"./dataset/temp59.jpg\", \"./dataset/temp60.jpg\", ]\n",
    "\n",
    "_, calculations = process_image_list(images)\n",
    "x = np.array(calculations).reshape(-1, 1)\n",
    "\n",
    "labels = create_correct_result(len(calculations))\n",
    "on_test_prediction = model.predict(x)\n",
    "check_recognition_correctness(on_test_prediction, labels)"
   ],
   "metadata": {
    "collapsed": false,
    "ExecuteTime": {
     "end_time": "2024-04-15T18:33:17.820561Z",
     "start_time": "2024-04-15T18:33:17.766018Z"
    }
   },
   "id": "7b843b2bb5003bdb",
   "execution_count": 25
  },
  {
   "cell_type": "code",
   "outputs": [],
   "source": [],
   "metadata": {
    "collapsed": false
   },
   "id": "2df57ed2f835fa08"
  }
 ],
 "metadata": {
  "kernelspec": {
   "display_name": "Python 3",
   "language": "python",
   "name": "python3"
  },
  "language_info": {
   "codemirror_mode": {
    "name": "ipython",
    "version": 2
   },
   "file_extension": ".py",
   "mimetype": "text/x-python",
   "name": "python",
   "nbconvert_exporter": "python",
   "pygments_lexer": "ipython2",
   "version": "2.7.6"
  }
 },
 "nbformat": 4,
 "nbformat_minor": 5
}
