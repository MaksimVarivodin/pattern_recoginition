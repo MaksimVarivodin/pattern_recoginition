{
 "cells": [
  {
   "cell_type": "code",
   "execution_count": 12,
   "id": "initial_id",
   "metadata": {
    "collapsed": true,
    "ExecuteTime": {
     "end_time": "2024-04-09T13:25:45.732872Z",
     "start_time": "2024-04-09T13:25:45.651525Z"
    }
   },
   "outputs": [
    {
     "name": "stdout",
     "output_type": "stream",
     "text": [
      "recognition correctness =  0.8333333333333334 % ( 25 / 30 )\n",
      "recognition correctness =  0.8666666666666667 % ( 26 / 30 )\n"
     ]
    }
   ],
   "source": [
    "import numpy as np\n",
    "from scipy.fftpack import dct\n",
    "import cv2\n",
    "from sklearn.linear_model import LogisticRegression\n",
    "def create_correct_result(a, b=0):\n",
    "    if b != 0:\n",
    "        return np.concatenate((np.ones(a), np.zeros(b)))\n",
    "    else:\n",
    "        half_size = int(a / 2)\n",
    "        ones = np.ones(half_size)\n",
    "        zeros = np.zeros(half_size)\n",
    "        return np.concatenate((ones, zeros))\n",
    "    \n",
    "    \n",
    "def check_recognition_correctness(predicted, correct_prediction):\n",
    "    if predicted.shape[0] != correct_prediction.shape[0]:\n",
    "        return\n",
    "    correct_counter = 0\n",
    "    for iterator in range(predicted.shape[0]):\n",
    "        if predicted[iterator] == correct_prediction[iterator]:\n",
    "            correct_counter += 1\n",
    "    correct_percent = correct_counter / predicted.shape[0]\n",
    "    print(\"recognition correctness = \", correct_percent, \"% (\" , correct_counter , \"/\", predicted.shape[0], \")\")\n",
    "# Завантажте зображення (використовуйте ваші шляхи до файлів)\n",
    "image_paths = [\n",
    "    \"./dataset/temp10.jpg\", \"./dataset/temp11.jpg\", \"./dataset/temp12.jpg\",\n",
    "    \"./dataset/temp13.jpg\", \"./dataset/temp14.jpg\", \"./dataset/temp15.jpg\",\n",
    "    \"./dataset/temp16.jpg\", \"./dataset/temp17.jpg\", \"./dataset/temp18.jpg\",\n",
    "    \"./dataset/temp19.jpg\", \"./dataset/temp20.jpg\", \"./dataset/temp21.jpg\",\n",
    "    \"./dataset/temp22.jpg\", \"./dataset/temp23.jpg\", \"./dataset/temp24.jpg\",\n",
    "    \"./dataset/temp36.jpg\", \"./dataset/temp37.jpg\", \"./dataset/temp38.jpg\",\n",
    "    \"./dataset/temp39.jpg\", \"./dataset/temp40.jpg\", \"./dataset/temp41.jpg\",\n",
    "    \"./dataset/temp42.jpg\", \"./dataset/temp43.jpg\", \"./dataset/temp44.jpg\",\n",
    "    \"./dataset/temp45.jpg\", \"./dataset/temp46.jpg\", \"./dataset/temp47.jpg\",\n",
    "    \"./dataset/temp48.jpg\", \"./dataset/temp49.jpg\", \"./dataset/temp50.jpg\",\n",
    "    # Додайте інші шляхи до зображень\n",
    "]\n",
    "\n",
    "\n",
    "def compute_features(image_path):\n",
    "    # Завантажте зображення та перетворіть його на чорно-біле\n",
    "    image = cv2.imread(image_path, cv2.IMREAD_GRAYSCALE)\n",
    "\n",
    "    # Обчисліть FFT\n",
    "    fft_result = np.fft.fft2(image)\n",
    "    fft_amplitudes = np.abs(fft_result)\n",
    "\n",
    "    # Обчисліть DCT\n",
    "    dct_result = dct(dct(image, axis=0), axis=1)\n",
    "    dct_coefficients = np.abs(dct_result)\n",
    "\n",
    "    # Отримайте характеристичні ознаки (наприклад, середнє значення амплітуд FFT та коефіцієнти DCT)\n",
    "    mean_fft_amplitude = np.mean(fft_amplitudes)\n",
    "    mean_dct_coefficient = np.mean(dct_coefficients)\n",
    "\n",
    "    return mean_fft_amplitude, mean_dct_coefficient\n",
    "\n",
    "\n",
    "# Обчисліть характеристичні ознаки для кожного зображення\n",
    "fft_list, dct_list = [], []\n",
    "for path in image_paths:\n",
    "    fft_amplitude, dct_coefficient = compute_features(path)\n",
    "    fft_list.append(fft_amplitude)\n",
    "    dct_list.append(dct_coefficient)\n",
    "\n",
    "\n",
    "fft_list = np.array(fft_list).reshape(-1, 1)\n",
    "y = create_correct_result(len(fft_list))\n",
    "dct_list = np.array(dct_list).reshape(-1, 1)\n",
    "\n",
    "fft_model = LogisticRegression(solver='liblinear', random_state=0).fit(fft_list, y)\n",
    "dct_model = LogisticRegression(solver='liblinear', random_state=0).fit(dct_list, y)\n",
    "\n",
    "fft_prediction = fft_model.predict(fft_list)\n",
    "check_recognition_correctness(y, fft_prediction)\n",
    "\n",
    "dct_prediction = dct_model.predict(dct_list)\n",
    "check_recognition_correctness(y, dct_prediction)\n",
    "\n",
    "\n",
    "\n"
   ]
  },
  {
   "cell_type": "markdown",
   "source": [
    "Тестова вибірка"
   ],
   "metadata": {
    "collapsed": false
   },
   "id": "dd952fffa823d27"
  },
  {
   "cell_type": "code",
   "outputs": [
    {
     "name": "stdout",
     "output_type": "stream",
     "text": [
      "recognition correctness =  0.95 % ( 19 / 20 )\n",
      "recognition correctness =  0.95 % ( 19 / 20 )\n"
     ]
    }
   ],
   "source": [
    "image_paths = [\"./dataset/temp25.jpg\", \"./dataset/temp26.jpg\", \"./dataset/temp27.jpg\",\n",
    "          \"./dataset/temp28.jpg\", \"./dataset/temp29.jpg\", \"./dataset/temp30.jpg\",\n",
    "          \"./dataset/temp31.jpg\", \"./dataset/temp32.jpg\", \"./dataset/temp33.jpg\",\n",
    "          \"./dataset/temp34.jpg\", \"./dataset/temp51.jpg\", \"./dataset/temp52.jpg\",\n",
    "          \"./dataset/temp53.jpg\", \"./dataset/temp54.jpg\", \"./dataset/temp55.jpg\",\n",
    "          \"./dataset/temp56.jpg\", \"./dataset/temp57.jpg\", \"./dataset/temp58.jpg\",\n",
    "          \"./dataset/temp59.jpg\", \"./dataset/temp60.jpg\", ]\n",
    "\n",
    "# Обчисліть характеристичні ознаки для кожного зображення\n",
    "fft_list, dct_list = [], []\n",
    "for path in image_paths:\n",
    "    fft_amplitude, dct_coefficient = compute_features(path)\n",
    "    fft_list.append(fft_amplitude)\n",
    "    dct_list.append(dct_coefficient)\n",
    "    \n",
    "    \n",
    "fft_list = np.array(fft_list).reshape(-1, 1)\n",
    "y = create_correct_result(len(fft_list))\n",
    "dct_list = np.array(dct_list).reshape(-1, 1)\n",
    "\n",
    "fft_prediction = fft_model.predict(fft_list)\n",
    "check_recognition_correctness(y, fft_prediction)\n",
    "\n",
    "dct_prediction = dct_model.predict(dct_list)\n",
    "check_recognition_correctness(y, dct_prediction)"
   ],
   "metadata": {
    "collapsed": false,
    "ExecuteTime": {
     "end_time": "2024-04-09T13:25:45.812349Z",
     "start_time": "2024-04-09T13:25:45.734780Z"
    }
   },
   "id": "5401427b65c9b633",
   "execution_count": 13
  }
 ],
 "metadata": {
  "kernelspec": {
   "display_name": "Python 3",
   "language": "python",
   "name": "python3"
  },
  "language_info": {
   "codemirror_mode": {
    "name": "ipython",
    "version": 2
   },
   "file_extension": ".py",
   "mimetype": "text/x-python",
   "name": "python",
   "nbconvert_exporter": "python",
   "pygments_lexer": "ipython2",
   "version": "2.7.6"
  }
 },
 "nbformat": 4,
 "nbformat_minor": 5
}
